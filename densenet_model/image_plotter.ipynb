{
 "cells": [
  {
   "cell_type": "code",
   "execution_count": 9,
   "metadata": {},
   "outputs": [],
   "source": [
    "import matplotlib.pyplot as plt\n",
    "import matplotlib.patches as patches\n",
    "from PIL import Image\n",
    "import numpy as np\n",
    "from keras.preprocessing.image import load_img, img_to_array\n",
    "from evaluate import evaluate\n",
    "from utils import img_parts_generator"
   ]
  },
  {
   "cell_type": "code",
   "execution_count": 38,
   "metadata": {
    "collapsed": true
   },
   "outputs": [],
   "source": [
    "def plot_data(img, orig_x1, orig_y1, orig_x2, orig_y2, pred_x1, pred_y1, pred_x2, pred_y2, i):\n",
    "    # Create figure and axes\n",
    "    fig,ax = plt.subplots(1)\n",
    "\n",
    "    # Display the image\n",
    "    ax.imshow(img)\n",
    "    orig_width = orig_x2 - orig_x1\n",
    "    orig_height = orig_y2 - orig_y1\n",
    "    # Create a Rectangle patch\n",
    "    rect = patches.Rectangle((orig_x1, orig_y1),orig_width, orig_height,linewidth=5,edgecolor='b',facecolor='none')\n",
    "\n",
    "    # Add the patch to the Axes\n",
    "    ax.add_patch(rect)\n",
    "\n",
    "    pred_width = pred_x2 - pred_x1\n",
    "    pred_height = pred_y2 - pred_y1\n",
    "    rect = patches.Rectangle((pred_x1, pred_y1),pred_width,pred_height,linewidth=5,edgecolor='r',facecolor='none')\n",
    "    ax.add_patch(rect)\n",
    "    #plt.show()\n",
    "    plt.axis('off')\n",
    "    plt.savefig('../bounding_box/' + str(i) + '.jpg', bbox_inches='tight', transparent=True, dpi='figure', pad_inches = 0)"
   ]
  },
  {
   "cell_type": "code",
   "execution_count": 3,
   "metadata": {
    "collapsed": true
   },
   "outputs": [],
   "source": [
    "def plot_data_img_str(img, x, y):\n",
    "\n",
    "\n",
    "    implot = plt.imshow(img)\n",
    "    plt.plot(x,y,'o', marker=5)\n",
    "    plt.show()\n"
   ]
  },
  {
   "cell_type": "code",
   "execution_count": 4,
   "metadata": {
    "collapsed": true
   },
   "outputs": [],
   "source": [
    "def plot_data_img(img):\n",
    "    # Create figure and axes\n",
    "    fig,ax = plt.subplots(1)\n",
    "\n",
    "    # Display the image\n",
    "    ax.imshow(img)\n",
    "    \n",
    "    plt.show()"
   ]
  },
  {
   "cell_type": "code",
   "execution_count": 5,
   "metadata": {},
   "outputs": [
    {
     "name": "stdout",
     "output_type": "stream",
     "text": [
      "Inceptionv4 Base loaded\n"
     ]
    },
    {
     "name": "stderr",
     "output_type": "stream",
     "text": [
      "/home/ubuntu/birdsnap_dataset/deepbirdsnap/inceptionv4.py:400: UserWarning: Update your `Model` call to the Keras 2 API: `Model(outputs=Tensor(\"de..., inputs=Tensor(\"in...)`\n",
      "  top_model = Model(input=inputs, output=x)\n",
      "/home/ubuntu/birdsnap_dataset/deepbirdsnap/inceptionv4.py:465: UserWarning: Update your `Model` call to the Keras 2 API: `Model(outputs=Tensor(\"mo..., inputs=Tensor(\"in...)`\n",
      "  fused = Model(input=base_inputs, output=top(base(base_inputs)))\n"
     ]
    },
    {
     "name": "stdout",
     "output_type": "stream",
     "text": [
      "Weights loaded\n"
     ]
    }
   ],
   "source": [
    "images, orig_parts, pred_parts = evaluate(get_labels = 100, bb_only=True)\n",
    "\n"
   ]
  },
  {
   "cell_type": "code",
   "execution_count": 39,
   "metadata": {},
   "outputs": [
    {
     "name": "stderr",
     "output_type": "stream",
     "text": [
      "/home/ubuntu/birdsnap_dataset/deepbirdsnap/newbirds/lib/python3.5/site-packages/matplotlib/pyplot.py:524: RuntimeWarning: More than 20 figures have been opened. Figures created through the pyplot interface (`matplotlib.pyplot.figure`) are retained until explicitly closed and may consume too much memory. (To control this warning, see the rcParam `figure.max_open_warning`).\n",
      "  max_open_warning, RuntimeWarning)\n"
     ]
    }
   ],
   "source": [
    "for i in range(len(images)):\n",
    "    image = images[i]\n",
    "    \n",
    "    orig_x1 = orig_parts[i][0]\n",
    "    orig_y1 = orig_parts[i][1]\n",
    "    orig_x2 = orig_parts[i][2]\n",
    "    orig_y2 = orig_parts[i][3]\n",
    "    \n",
    "    pred_x1 = pred_parts[i][0]\n",
    "    pred_y1 = pred_parts[i][1]\n",
    "    pred_x2 = pred_parts[i][2]\n",
    "    pred_y2 = pred_parts[i][3]\n",
    "    \n",
    "    plot_data(image, orig_x1, orig_y1, orig_x2, orig_y2, pred_x1, pred_y1, pred_x2, pred_y2, i+1)"
   ]
  },
  {
   "cell_type": "code",
   "execution_count": null,
   "metadata": {
    "collapsed": true
   },
   "outputs": [],
   "source": [
    "pred_greater = orig_parts[0] > 0\n",
    "print(pred_greater.shape)\n",
    "# null_errors = 0\n",
    "\n",
    "# for y,y_pred in zip(orig_parts,pred_parts):\n",
    "#     if y==-1:\n",
    "        \n",
    "diff= np.abs((pred_parts[0]-orig_parts[0])[pred_greater])\n",
    "print(diff.shape)\n",
    "diff.sort()\n",
    "print(diff)\n",
    "loss = np.mean(np.abs(diff))\n",
    "print(loss)\n"
   ]
  }
 ],
 "metadata": {
  "anaconda-cloud": {},
  "kernelspec": {
   "display_name": "Python 2",
   "language": "python",
   "name": "python2"
  },
  "language_info": {
   "codemirror_mode": {
    "name": "ipython",
    "version": 2
   },
   "file_extension": ".py",
   "mimetype": "text/x-python",
   "name": "python",
   "nbconvert_exporter": "python",
   "pygments_lexer": "ipython2",
   "version": "2.7.14"
  }
 },
 "nbformat": 4,
 "nbformat_minor": 1
}
